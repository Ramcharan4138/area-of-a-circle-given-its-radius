{
 "cells": [
  {
   "cell_type": "code",
   "execution_count": null,
   "id": "d7616dd4-a930-4a10-97af-454b453e4cc4",
   "metadata": {},
   "outputs": [],
   "source": [
    "#calculating area of circle given by its radius\n",
    "r=float(input(\"Enter a number:\"))\n",
    "area=3.14*r*r\n",
    "print(area)"
   ]
  }
 ],
 "metadata": {
  "kernelspec": {
   "display_name": "Python [conda env:base] *",
   "language": "python",
   "name": "conda-base-py"
  },
  "language_info": {
   "codemirror_mode": {
    "name": "ipython",
    "version": 3
   },
   "file_extension": ".py",
   "mimetype": "text/x-python",
   "name": "python",
   "nbconvert_exporter": "python",
   "pygments_lexer": "ipython3",
   "version": "3.12.7"
  }
 },
 "nbformat": 4,
 "nbformat_minor": 5
}
